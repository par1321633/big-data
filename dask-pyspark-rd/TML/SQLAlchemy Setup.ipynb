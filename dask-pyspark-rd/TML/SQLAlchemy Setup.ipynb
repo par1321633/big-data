{
 "cells": [
  {
   "cell_type": "code",
   "execution_count": 1,
   "metadata": {},
   "outputs": [],
   "source": [
    "import pandas as pd"
   ]
  },
  {
   "cell_type": "code",
   "execution_count": 2,
   "metadata": {},
   "outputs": [],
   "source": [
    "dbDetails = {\n",
    "    \"driver\": \"postgresql\",\n",
    "    \"username\": \"postgres\",\n",
    "    \"password\": \"password\",\n",
    "    \"host\": \"localhost\",\n",
    "    \"port\": \"5432\",\n",
    "    \"database\": \"TML\"\n",
    "}\n",
    "dbDetails[\"uri\"] = '%(driver)s://%(username)s:%(password)s@%(host)s:%(port)s/%(database)s' % dbDetails\n"
   ]
  },
  {
   "cell_type": "code",
   "execution_count": 3,
   "metadata": {},
   "outputs": [],
   "source": [
    "from sqlalchemy import create_engine\n",
    "from sqlalchemy.orm import sessionmaker"
   ]
  },
  {
   "cell_type": "code",
   "execution_count": 4,
   "metadata": {},
   "outputs": [],
   "source": [
    "postgres_engine = create_engine(dbDetails[\"uri\"], echo=False)\n",
    "Sessions= sessionmaker(bind=postgres_engine)\n",
    "session = Sessions()"
   ]
  },
  {
   "cell_type": "code",
   "execution_count": 5,
   "metadata": {},
   "outputs": [],
   "source": [
    "from sqlalchemy.ext.declarative import declarative_base\n",
    "from sqlalchemy import Column, Integer, String, Date, Numeric,Boolean\n",
    "Base = declarative_base()"
   ]
  },
  {
   "cell_type": "code",
   "execution_count": 6,
   "metadata": {},
   "outputs": [],
   "source": [
    "class PrimaryStockData(Base):\n",
    "    # table properties\n",
    "    \"\"\"NA\"\"\"\n",
    "    __tablename__ = 'primary_stock_data_v2'\n",
    "    # table columns\n",
    "    source_tag = Column(Integer, primary_key=True, autoincrement=False)\n",
    "    status_date = Column(Date, primary_key=True, autoincrement=False)\n",
    "    sku_code = Column(String(length=256), primary_key=True)\n",
    "    sc_node_code = Column(String(length=256), primary_key=True)\n",
    "    sales_channel_code = Column(String(length=256), primary_key=True)\n",
    "    field_of_operation = Column(String(length=256), primary_key=True)\n",
    "    stock_type = Column(String, primary_key=True)\n",
    "    storage_loc = Column(String(length=256))\n",
    "    batch_code = Column(String(length=256), primary_key=True)\n",
    "    date_of_mfg = Column(Date)\n",
    "    date_of_expiry = Column(Date)\n",
    "    stock_qty = Column(Numeric(precision=38, scale=4))\n",
    "    stock_value = Column(Numeric(precision=38, scale=4))\n",
    "    uom = Column(String(length=256), default=\"NA\")\n",
    "\n",
    "class NodeMaster(Base):\n",
    "    \"\"\"Contains information about all the nodes for a given client in the system.\n",
    "    User can put node code, description and other relevant information about a node in this table.\"\"\"\n",
    "    # table properties\n",
    "    __tablename__ = 'node_master'\n",
    "\n",
    "    # table columns\n",
    "    source_tag = Column(Integer, primary_key=True, autoincrement=False)\n",
    "    node_code  = Column(String(length=256), primary_key=True, autoincrement=False)\n",
    "    node_description = Column(String(length=256))\n",
    "    node_tier = Column(Integer)\n",
    "    node_geo_code  = Column(String(length=256))  # Pin code or Plus Code\n",
    "    status_code = Column(String(length=256), nullable=True)\n",
    "    sales_channel = Column(String(length=256))\n",
    "    region_code = Column(String(length=256))\n",
    "    region_description = Column(String(length=256))\n",
    "    state_code = Column(String(length=256))\n",
    "    state_desc = Column(String(length=256))\n",
    "    city_code = Column(String(length=256))\n",
    "    city_desc = Column(String(length=256))\n",
    "    pincode = Column(Integer)"
   ]
  },
  {
   "cell_type": "code",
   "execution_count": 7,
   "metadata": {},
   "outputs": [],
   "source": [
    "#this is for the first time to setup table in DB\n",
    "Base.metadata.create_all(postgres_engine)\n",
    "#once created restore data in DB"
   ]
  },
  {
   "cell_type": "code",
   "execution_count": 8,
   "metadata": {},
   "outputs": [],
   "source": [
    "date_start = '2019-07-01'\n",
    "date_end ='2019-07-02'"
   ]
  },
  {
   "cell_type": "code",
   "execution_count": 9,
   "metadata": {},
   "outputs": [],
   "source": [
    "sq = session.query(PrimaryStockData) \\\n",
    "    .filter(PrimaryStockData.status_date.between(cleft=date_start, cright=date_end)\n",
    "            ,(PrimaryStockData.stock_type == \"SFLT\")\n",
    "            ,(PrimaryStockData.sales_channel_code.in_([\"CV\",\"ALL\"]))\n",
    "            , (PrimaryStockData.field_of_operation.in_([\"D\"]))\n",
    "            )"
   ]
  },
  {
   "cell_type": "code",
   "execution_count": 10,
   "metadata": {},
   "outputs": [],
   "source": [
    "sq = sq.join(NodeMaster, NodeMaster.node_code == PrimaryStockData.sc_node_code)"
   ]
  },
  {
   "cell_type": "code",
   "execution_count": 11,
   "metadata": {},
   "outputs": [
    {
     "name": "stdout",
     "output_type": "stream",
     "text": [
      "SELECT primary_stock_data_v2.source_tag, primary_stock_data_v2.status_date, primary_stock_data_v2.sku_code, primary_stock_data_v2.sc_node_code, primary_stock_data_v2.sales_channel_code, primary_stock_data_v2.field_of_operation, primary_stock_data_v2.stock_type, primary_stock_data_v2.storage_loc, primary_stock_data_v2.batch_code, primary_stock_data_v2.date_of_mfg, primary_stock_data_v2.date_of_expiry, primary_stock_data_v2.stock_qty, primary_stock_data_v2.stock_value, primary_stock_data_v2.uom \n",
      "FROM primary_stock_data_v2 JOIN node_master ON node_master.node_code = primary_stock_data_v2.sc_node_code \n",
      "WHERE primary_stock_data_v2.status_date BETWEEN :status_date_1 AND :status_date_2 AND primary_stock_data_v2.stock_type = :stock_type_1 AND primary_stock_data_v2.sales_channel_code IN (:sales_channel_code_1, :sales_channel_code_2) AND primary_stock_data_v2.field_of_operation IN (:field_of_operation_1)\n"
     ]
    }
   ],
   "source": [
    "print (sq.statement)"
   ]
  },
  {
   "cell_type": "code",
   "execution_count": 12,
   "metadata": {},
   "outputs": [],
   "source": [
    "sq = sq.filter(NodeMaster.node_tier != 2)"
   ]
  },
  {
   "cell_type": "code",
   "execution_count": 13,
   "metadata": {},
   "outputs": [],
   "source": [
    "groubby_cols = list()\n",
    "agg_cols = list()"
   ]
  },
  {
   "cell_type": "code",
   "execution_count": 14,
   "metadata": {},
   "outputs": [],
   "source": [
    "### for StockPrimary\n",
    "g1 = ['status_date','sku_code','sc_node_code']\n",
    "## for node_tier\n",
    "g2 = ['node_tier']"
   ]
  },
  {
   "cell_type": "code",
   "execution_count": 15,
   "metadata": {},
   "outputs": [],
   "source": [
    "groubby_cols =  groubby_cols + [getattr(PrimaryStockData,col) for col in g1]"
   ]
  },
  {
   "cell_type": "code",
   "execution_count": 16,
   "metadata": {},
   "outputs": [],
   "source": [
    "groubby_cols =  groubby_cols + [getattr(NodeMaster,col) for col in g2]"
   ]
  },
  {
   "cell_type": "code",
   "execution_count": 17,
   "metadata": {},
   "outputs": [
    {
     "data": {
      "text/plain": [
       "[<sqlalchemy.orm.attributes.InstrumentedAttribute at 0x24fd1597048>,\n",
       " <sqlalchemy.orm.attributes.InstrumentedAttribute at 0x24fd15970f8>,\n",
       " <sqlalchemy.orm.attributes.InstrumentedAttribute at 0x24fd15971a8>,\n",
       " <sqlalchemy.orm.attributes.InstrumentedAttribute at 0x24fd1597ca8>]"
      ]
     },
     "execution_count": 17,
     "metadata": {},
     "output_type": "execute_result"
    }
   ],
   "source": [
    "groubby_cols"
   ]
  },
  {
   "cell_type": "code",
   "execution_count": 18,
   "metadata": {},
   "outputs": [],
   "source": [
    "sq = sq.group_by(*groubby_cols)"
   ]
  },
  {
   "cell_type": "code",
   "execution_count": 26,
   "metadata": {},
   "outputs": [],
   "source": [
    "from sqlalchemy import func,and_,distinct"
   ]
  },
  {
   "cell_type": "code",
   "execution_count": 27,
   "metadata": {},
   "outputs": [],
   "source": [
    "?distinct"
   ]
  },
  {
   "cell_type": "code",
   "execution_count": 20,
   "metadata": {},
   "outputs": [],
   "source": [
    "# StockPrimary\n",
    "ag1 = {\"stock_qty\" : {'sum' : \"stock_qty\"},\n",
    "       \"date_of_mfg\" : {'min' : \"min_date_of_mfg\"}}"
   ]
  },
  {
   "cell_type": "code",
   "execution_count": 21,
   "metadata": {},
   "outputs": [
    {
     "name": "stdout",
     "output_type": "stream",
     "text": [
      "stock_qty {'sum': 'stock_qty'}\n",
      "date_of_mfg {'min': 'min_date_of_mfg'}\n"
     ]
    }
   ],
   "source": [
    "for col, agg_fn_info in ag1.items():\n",
    "    print (col,agg_fn_info)\n",
    "    column_id = getattr(PrimaryStockData, col)\n",
    "    for function_name, label in agg_fn_info.items():\n",
    "        function = getattr(func, function_name)\n",
    "        agg_cols.append(function(column_id).label(label))"
   ]
  },
  {
   "cell_type": "code",
   "execution_count": 22,
   "metadata": {},
   "outputs": [
    {
     "data": {
      "text/plain": [
       "[<sqlalchemy.sql.elements.Label object at 0x0000024FD15FDBA8>,\n",
       " <sqlalchemy.sql.elements.Label object at 0x0000024FD15FDCF8>]"
      ]
     },
     "execution_count": 22,
     "metadata": {},
     "output_type": "execute_result"
    }
   ],
   "source": [
    "agg_cols"
   ]
  },
  {
   "cell_type": "code",
   "execution_count": 23,
   "metadata": {},
   "outputs": [
    {
     "name": "stdout",
     "output_type": "stream",
     "text": [
      "SELECT primary_stock_data_v2.status_date AS primary_stock_data_v2_status_date, primary_stock_data_v2.sku_code AS primary_stock_data_v2_sku_code, primary_stock_data_v2.sc_node_code AS primary_stock_data_v2_sc_node_code, node_master.node_tier AS node_master_node_tier, sum(primary_stock_data_v2.stock_qty) AS stock_qty, min(primary_stock_data_v2.date_of_mfg) AS min_date_of_mfg \n",
      "FROM primary_stock_data_v2 JOIN node_master ON node_master.node_code = primary_stock_data_v2.sc_node_code \n",
      "WHERE primary_stock_data_v2.status_date BETWEEN %(status_date_1)s AND %(status_date_2)s AND primary_stock_data_v2.stock_type = %(stock_type_1)s AND primary_stock_data_v2.sales_channel_code IN (%(sales_channel_code_1)s, %(sales_channel_code_2)s) AND primary_stock_data_v2.field_of_operation IN (%(field_of_operation_1)s) AND node_master.node_tier != %(node_tier_1)s GROUP BY primary_stock_data_v2.status_date, primary_stock_data_v2.sku_code, primary_stock_data_v2.sc_node_code, node_master.node_tier\n"
     ]
    }
   ],
   "source": [
    "sq = sq.with_entities(*groubby_cols, *agg_cols)\n",
    "print (sq)"
   ]
  },
  {
   "cell_type": "code",
   "execution_count": 24,
   "metadata": {},
   "outputs": [],
   "source": [
    "df = pd.read_sql(sq.statement, session.bind)\n"
   ]
  },
  {
   "cell_type": "code",
   "execution_count": 25,
   "metadata": {},
   "outputs": [
    {
     "data": {
      "text/html": [
       "<div>\n",
       "<style scoped>\n",
       "    .dataframe tbody tr th:only-of-type {\n",
       "        vertical-align: middle;\n",
       "    }\n",
       "\n",
       "    .dataframe tbody tr th {\n",
       "        vertical-align: top;\n",
       "    }\n",
       "\n",
       "    .dataframe thead th {\n",
       "        text-align: right;\n",
       "    }\n",
       "</style>\n",
       "<table border=\"1\" class=\"dataframe\">\n",
       "  <thead>\n",
       "    <tr style=\"text-align: right;\">\n",
       "      <th></th>\n",
       "      <th>status_date</th>\n",
       "      <th>sku_code</th>\n",
       "      <th>sc_node_code</th>\n",
       "      <th>node_tier</th>\n",
       "      <th>stock_qty</th>\n",
       "      <th>min_date_of_mfg</th>\n",
       "    </tr>\n",
       "  </thead>\n",
       "  <tbody>\n",
       "    <tr>\n",
       "      <th>0</th>\n",
       "      <td>2019-07-01</td>\n",
       "      <td>20671936000R</td>\n",
       "      <td>2001</td>\n",
       "      <td>1</td>\n",
       "      <td>2.0</td>\n",
       "      <td>2017-03-27</td>\n",
       "    </tr>\n",
       "    <tr>\n",
       "      <th>1</th>\n",
       "      <td>2019-07-01</td>\n",
       "      <td>20731158000R</td>\n",
       "      <td>3001</td>\n",
       "      <td>1</td>\n",
       "      <td>1.0</td>\n",
       "      <td>2017-04-29</td>\n",
       "    </tr>\n",
       "    <tr>\n",
       "      <th>2</th>\n",
       "      <td>2019-07-01</td>\n",
       "      <td>20732258000R</td>\n",
       "      <td>3001</td>\n",
       "      <td>1</td>\n",
       "      <td>4.0</td>\n",
       "      <td>2016-06-22</td>\n",
       "    </tr>\n",
       "    <tr>\n",
       "      <th>3</th>\n",
       "      <td>2019-07-01</td>\n",
       "      <td>20732755100R</td>\n",
       "      <td>3001</td>\n",
       "      <td>1</td>\n",
       "      <td>2.0</td>\n",
       "      <td>2016-08-29</td>\n",
       "    </tr>\n",
       "    <tr>\n",
       "      <th>4</th>\n",
       "      <td>2019-07-01</td>\n",
       "      <td>20804332000R</td>\n",
       "      <td>3001</td>\n",
       "      <td>1</td>\n",
       "      <td>11.0</td>\n",
       "      <td>2019-06-29</td>\n",
       "    </tr>\n",
       "  </tbody>\n",
       "</table>\n",
       "</div>"
      ],
      "text/plain": [
       "  status_date      sku_code sc_node_code  node_tier  stock_qty min_date_of_mfg\n",
       "0  2019-07-01  20671936000R         2001          1        2.0      2017-03-27\n",
       "1  2019-07-01  20731158000R         3001          1        1.0      2017-04-29\n",
       "2  2019-07-01  20732258000R         3001          1        4.0      2016-06-22\n",
       "3  2019-07-01  20732755100R         3001          1        2.0      2016-08-29\n",
       "4  2019-07-01  20804332000R         3001          1       11.0      2019-06-29"
      ]
     },
     "execution_count": 25,
     "metadata": {},
     "output_type": "execute_result"
    }
   ],
   "source": [
    "df.head()"
   ]
  }
 ],
 "metadata": {
  "kernelspec": {
   "display_name": "Python 3",
   "language": "python",
   "name": "python3"
  },
  "language_info": {
   "codemirror_mode": {
    "name": "ipython",
    "version": 3
   },
   "file_extension": ".py",
   "mimetype": "text/x-python",
   "name": "python",
   "nbconvert_exporter": "python",
   "pygments_lexer": "ipython3",
   "version": "3.7.3"
  }
 },
 "nbformat": 4,
 "nbformat_minor": 2
}
