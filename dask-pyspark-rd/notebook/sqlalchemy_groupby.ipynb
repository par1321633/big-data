{
 "cells": [
  {
   "cell_type": "code",
   "execution_count": 52,
   "metadata": {},
   "outputs": [],
   "source": [
    "import pandas as pd"
   ]
  },
  {
   "cell_type": "code",
   "execution_count": 36,
   "metadata": {},
   "outputs": [],
   "source": [
    "# Database Details\n",
    "dbDetails = {\n",
    "    \"driver\": \"postgresql\",\n",
    "    \"username\": \"postgres\",\n",
    "    \"password\": \"password\",\n",
    "    \"host\": \"localhost\",\n",
    "    \"port\": \"5432\",\n",
    "    \"database\": \"alpha_emami\"\n",
    "}\n",
    "dbDetails[\"uri\"] = '%(driver)s://%(username)s:%(password)s@%(host)s:%(port)s/%(database)s' % dbDetails\n"
   ]
  },
  {
   "cell_type": "code",
   "execution_count": 37,
   "metadata": {},
   "outputs": [],
   "source": [
    "from sqlalchemy import create_engine\n",
    "from sqlalchemy.orm import sessionmaker"
   ]
  },
  {
   "cell_type": "code",
   "execution_count": 38,
   "metadata": {},
   "outputs": [],
   "source": [
    "postgres_engine = create_engine(dbDetails[\"uri\"], echo=False)\n",
    "Sessions= sessionmaker(bind=postgres_engine)\n",
    "sesion = Sessions()"
   ]
  },
  {
   "cell_type": "code",
   "execution_count": 39,
   "metadata": {},
   "outputs": [],
   "source": [
    "#SQL Alchemy Model\n",
    "from sqlalchemy.ext.declarative import declarative_base\n",
    "from sqlalchemy import Column, Integer, String, Date, Numeric\n",
    "\n",
    "Base = declarative_base()\n",
    "\n",
    "class StockPrimary(Base):\n",
    "    # table properties\n",
    "    __tablename__ = 'stock_primary'\n",
    "    # table columns\n",
    "    source_tag = Column(Integer, primary_key=True, autoincrement=False)\n",
    "    status_date = Column(Date, primary_key=True, autoincrement=False)\n",
    "    sku_code = Column(String(length=256), primary_key=True)\n",
    "    sc_node_code = Column(String(length=256), primary_key=True)\n",
    "    sales_channel_code = Column(String(length=256), primary_key=True)\n",
    "    stock_type = Column(Integer, primary_key=True)\n",
    "    storage_loc = Column(String(length=256), primary_key=True)\n",
    "    batch_code = Column(String(length=256), primary_key=True)\n",
    "    date_of_mfg = Column(Date)\n",
    "    date_of_expiry = Column(Date)\n",
    "    uom = Column(String(length=256),primary_key=True,default=\"NA\")\n",
    "    stock_qty = Column(Numeric(precision=38, scale=4))\n",
    "    stock_value = Column(Numeric(precision=38, scale=4))"
   ]
  },
  {
   "cell_type": "code",
   "execution_count": 41,
   "metadata": {},
   "outputs": [],
   "source": [
    "sq = sesion.query(StockPrimary)"
   ]
  },
  {
   "cell_type": "code",
   "execution_count": 42,
   "metadata": {},
   "outputs": [],
   "source": [
    "#configure cols to group and agg\n",
    "groupbycols = ['source_tag','status_date','sku_code','sc_node_code','sales_channel_code']\n",
    "groupby_cols_agg = {\"stock_qty\" : {'sum' : \"total_stocks\"}}"
   ]
  },
  {
   "cell_type": "code",
   "execution_count": 43,
   "metadata": {},
   "outputs": [],
   "source": [
    "groupbycols = [getattr(StockPrimary,col) for col in groupbycols]"
   ]
  },
  {
   "cell_type": "code",
   "execution_count": 45,
   "metadata": {},
   "outputs": [],
   "source": [
    "sq = sq.group_by(*groupbycols)"
   ]
  },
  {
   "cell_type": "code",
   "execution_count": 46,
   "metadata": {},
   "outputs": [
    {
     "data": {
      "text/plain": [
       "<sqlalchemy.orm.query.Query at 0x25385aa8a58>"
      ]
     },
     "execution_count": 46,
     "metadata": {},
     "output_type": "execute_result"
    }
   ],
   "source": [
    "sq"
   ]
  },
  {
   "cell_type": "code",
   "execution_count": 47,
   "metadata": {},
   "outputs": [],
   "source": [
    "from sqlalchemy import func,and_"
   ]
  },
  {
   "cell_type": "code",
   "execution_count": 48,
   "metadata": {},
   "outputs": [
    {
     "name": "stdout",
     "output_type": "stream",
     "text": [
      "stock_qty {'sum': 'total_stocks'}\n"
     ]
    },
    {
     "data": {
      "text/plain": [
       "[<sqlalchemy.sql.elements.Label object at 0x0000025384FB4898>]"
      ]
     },
     "execution_count": 48,
     "metadata": {},
     "output_type": "execute_result"
    }
   ],
   "source": [
    "agg_cols = list()\n",
    "for col, agg_fn_info in groupby_cols_agg.items():\n",
    "    print (col,agg_fn_info)\n",
    "    column_id = getattr(StockPrimary, col)\n",
    "    for function_name, label in agg_fn_info.items():\n",
    "        function = getattr(func, function_name)\n",
    "        agg_cols.append(function(column_id).label(label))\n",
    "agg_cols"
   ]
  },
  {
   "cell_type": "code",
   "execution_count": 49,
   "metadata": {},
   "outputs": [],
   "source": [
    "sq = sq.with_entities(*groupbycols, *agg_cols)"
   ]
  },
  {
   "cell_type": "code",
   "execution_count": 50,
   "metadata": {},
   "outputs": [
    {
     "name": "stdout",
     "output_type": "stream",
     "text": [
      "SELECT stock_primary.source_tag AS stock_primary_source_tag, stock_primary.status_date AS stock_primary_status_date, stock_primary.sku_code AS stock_primary_sku_code, stock_primary.sc_node_code AS stock_primary_sc_node_code, stock_primary.sales_channel_code AS stock_primary_sales_channel_code, sum(stock_primary.stock_qty) AS total_stocks \n",
      "FROM stock_primary GROUP BY stock_primary.source_tag, stock_primary.status_date, stock_primary.sku_code, stock_primary.sc_node_code, stock_primary.sales_channel_code, stock_primary.source_tag, stock_primary.status_date, stock_primary.sku_code, stock_primary.sc_node_code, stock_primary.sales_channel_code\n"
     ]
    }
   ],
   "source": [
    "print (sq)"
   ]
  },
  {
   "cell_type": "code",
   "execution_count": 51,
   "metadata": {},
   "outputs": [],
   "source": [
    "df = pd.read_sql(sq.statement, sesion.bind)"
   ]
  },
  {
   "cell_type": "code",
   "execution_count": 53,
   "metadata": {},
   "outputs": [
    {
     "data": {
      "text/html": [
       "<div>\n",
       "<style scoped>\n",
       "    .dataframe tbody tr th:only-of-type {\n",
       "        vertical-align: middle;\n",
       "    }\n",
       "\n",
       "    .dataframe tbody tr th {\n",
       "        vertical-align: top;\n",
       "    }\n",
       "\n",
       "    .dataframe thead th {\n",
       "        text-align: right;\n",
       "    }\n",
       "</style>\n",
       "<table border=\"1\" class=\"dataframe\">\n",
       "  <thead>\n",
       "    <tr style=\"text-align: right;\">\n",
       "      <th></th>\n",
       "      <th>source_tag</th>\n",
       "      <th>status_date</th>\n",
       "      <th>sku_code</th>\n",
       "      <th>sc_node_code</th>\n",
       "      <th>sales_channel_code</th>\n",
       "      <th>total_stocks</th>\n",
       "    </tr>\n",
       "  </thead>\n",
       "  <tbody>\n",
       "    <tr>\n",
       "      <th>0</th>\n",
       "      <td>1</td>\n",
       "      <td>2019-04-01</td>\n",
       "      <td>'1000400042801</td>\n",
       "      <td>DP08</td>\n",
       "      <td>ALL</td>\n",
       "      <td>0.0</td>\n",
       "    </tr>\n",
       "    <tr>\n",
       "      <th>1</th>\n",
       "      <td>1</td>\n",
       "      <td>2019-04-01</td>\n",
       "      <td>'1000400042801</td>\n",
       "      <td>DP14</td>\n",
       "      <td>ALL</td>\n",
       "      <td>0.0</td>\n",
       "    </tr>\n",
       "    <tr>\n",
       "      <th>2</th>\n",
       "      <td>1</td>\n",
       "      <td>2019-04-01</td>\n",
       "      <td>'1000400074201</td>\n",
       "      <td>DP01</td>\n",
       "      <td>ALL</td>\n",
       "      <td>0.0</td>\n",
       "    </tr>\n",
       "    <tr>\n",
       "      <th>3</th>\n",
       "      <td>1</td>\n",
       "      <td>2019-04-01</td>\n",
       "      <td>'1000400074201</td>\n",
       "      <td>DP02</td>\n",
       "      <td>ALL</td>\n",
       "      <td>0.0</td>\n",
       "    </tr>\n",
       "    <tr>\n",
       "      <th>4</th>\n",
       "      <td>1</td>\n",
       "      <td>2019-04-01</td>\n",
       "      <td>'1000400074201</td>\n",
       "      <td>DP11</td>\n",
       "      <td>ALL</td>\n",
       "      <td>0.0</td>\n",
       "    </tr>\n",
       "  </tbody>\n",
       "</table>\n",
       "</div>"
      ],
      "text/plain": [
       "   source_tag status_date        sku_code sc_node_code sales_channel_code  \\\n",
       "0           1  2019-04-01  '1000400042801         DP08                ALL   \n",
       "1           1  2019-04-01  '1000400042801         DP14                ALL   \n",
       "2           1  2019-04-01  '1000400074201         DP01                ALL   \n",
       "3           1  2019-04-01  '1000400074201         DP02                ALL   \n",
       "4           1  2019-04-01  '1000400074201         DP11                ALL   \n",
       "\n",
       "   total_stocks  \n",
       "0           0.0  \n",
       "1           0.0  \n",
       "2           0.0  \n",
       "3           0.0  \n",
       "4           0.0  "
      ]
     },
     "execution_count": 53,
     "metadata": {},
     "output_type": "execute_result"
    }
   ],
   "source": [
    "df.head()"
   ]
  }
 ],
 "metadata": {
  "kernelspec": {
   "display_name": "Python 3",
   "language": "python",
   "name": "python3"
  },
  "language_info": {
   "codemirror_mode": {
    "name": "ipython",
    "version": 3
   },
   "file_extension": ".py",
   "mimetype": "text/x-python",
   "name": "python",
   "nbconvert_exporter": "python",
   "pygments_lexer": "ipython3",
   "version": "3.7.3"
  }
 },
 "nbformat": 4,
 "nbformat_minor": 2
}
