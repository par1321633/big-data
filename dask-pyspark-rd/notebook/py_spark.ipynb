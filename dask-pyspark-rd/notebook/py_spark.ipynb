{
 "cells": [
  {
   "cell_type": "code",
   "execution_count": 93,
   "metadata": {},
   "outputs": [],
   "source": [
    "import pyspark\n",
    "from pyspark import SparkContext, SparkConf\n",
    "from pyspark.sql import SparkSession"
   ]
  },
  {
   "cell_type": "code",
   "execution_count": null,
   "metadata": {},
   "outputs": [],
   "source": [
    "conf = SparkConf()\n",
    "conf.setMaster('spark://13.92.116.204:7077')\n",
    "conf.setAppName('spark-read')"
   ]
  },
  {
   "cell_type": "code",
   "execution_count": 94,
   "metadata": {},
   "outputs": [],
   "source": [
    "sc = pyspark.SparkContext(conf=conf)"
   ]
  },
  {
   "cell_type": "code",
   "execution_count": null,
   "metadata": {},
   "outputs": [],
   "source": [
    "indata_creds = sqlContext.read.format('com.databricks.spark.csv').option('delimiter', '\\t').load('s3://stock-data-test/stock/*csv')"
   ]
  },
  {
   "cell_type": "code",
   "execution_count": 95,
   "metadata": {},
   "outputs": [],
   "source": [
    "from pyspark.sql import SQLContext"
   ]
  },
  {
   "cell_type": "code",
   "execution_count": 96,
   "metadata": {},
   "outputs": [],
   "source": [
    "sqlContext = SQLContext(sc)"
   ]
  },
  {
   "cell_type": "code",
   "execution_count": 97,
   "metadata": {},
   "outputs": [],
   "source": [
    "19/08/22 16:24:27 WARN FileStreamSink: Error while looking for metadata directory."
   ]
  },
  {
   "cell_type": "code",
   "execution_count": 98,
   "metadata": {},
   "outputs": [
    {
     "data": {
      "text/plain": [
       "DataFrame[MATERIAL: string, PLNT: string, BATCH: string, UNRESTRICTED: string, TRANSIT/TRANSF.: string, IN QUALITY INSP.: string, RESTRICTED-USE: string, BLOCKED: string, RETURNS: string, STATUS_DATE: string]"
      ]
     },
     "execution_count": 98,
     "metadata": {},
     "output_type": "execute_result"
    }
   ],
   "source": [
    "df"
   ]
  },
  {
   "cell_type": "code",
   "execution_count": 99,
   "metadata": {},
   "outputs": [
    {
     "data": {
      "text/plain": [
       "['MATERIAL',\n",
       " 'PLNT',\n",
       " 'BATCH',\n",
       " 'UNRESTRICTED',\n",
       " 'TRANSIT/TRANSF.',\n",
       " 'IN QUALITY INSP.',\n",
       " 'RESTRICTED-USE',\n",
       " 'BLOCKED',\n",
       " 'RETURNS',\n",
       " 'STATUS_DATE']"
      ]
     },
     "execution_count": 99,
     "metadata": {},
     "output_type": "execute_result"
    }
   ],
   "source": [
    "df.columns"
   ]
  },
  {
   "cell_type": "code",
   "execution_count": 100,
   "metadata": {},
   "outputs": [],
   "source": [
    "df = df.withColumnRenamed('UNRESTRICTED',\"st1\").withColumnRenamed(\"TRANSIT/TRANSF.\",\"st2\").withColumnRenamed(\"MATERIAL\",'sku_code').withColumnRenamed(\"PLNT\",\"sc_node_code\").withColumnRenamed(\"STATUS_DATE\",\"status_date\").withColumnRenamed(\"BATCH\",\"batch\")"
   ]
  },
  {
   "cell_type": "code",
   "execution_count": 101,
   "metadata": {},
   "outputs": [],
   "source": [
    "from pyspark.sql.types import DoubleType"
   ]
  },
  {
   "cell_type": "code",
   "execution_count": 102,
   "metadata": {},
   "outputs": [],
   "source": [
    "df = df.withColumnRenamed('IN QUALITY INSP.',\"IN_QUALITY_INSP\")"
   ]
  },
  {
   "cell_type": "code",
   "execution_count": 103,
   "metadata": {},
   "outputs": [
    {
     "data": {
      "text/plain": [
       "DataFrame[sku_code: string, sc_node_code: string, batch: string, st1: string, st2: string, IN_QUALITY_INSP: string, RESTRICTED-USE: string, BLOCKED: string, RETURNS: string, status_date: string]"
      ]
     },
     "execution_count": 103,
     "metadata": {},
     "output_type": "execute_result"
    }
   ],
   "source": [
    "df"
   ]
  },
  {
   "cell_type": "code",
   "execution_count": 104,
   "metadata": {},
   "outputs": [
    {
     "data": {
      "text/plain": [
       "['sku_code',\n",
       " 'sc_node_code',\n",
       " 'batch',\n",
       " 'st1',\n",
       " 'st2',\n",
       " 'IN_QUALITY_INSP',\n",
       " 'RESTRICTED-USE',\n",
       " 'BLOCKED',\n",
       " 'RETURNS',\n",
       " 'status_date']"
      ]
     },
     "execution_count": 104,
     "metadata": {},
     "output_type": "execute_result"
    }
   ],
   "source": [
    "df.columns"
   ]
  },
  {
   "cell_type": "code",
   "execution_count": 105,
   "metadata": {},
   "outputs": [],
   "source": [
    "df = df.withColumn('st3', df['IN_QUALITY_INSP'] + df['RESTRICTED-USE'] + df['BLOCKED'] + df['RETURNS'])"
   ]
  },
  {
   "cell_type": "code",
   "execution_count": 106,
   "metadata": {},
   "outputs": [],
   "source": [
    "cols_to_drop = ['IN_QUALITY_INSP','RESTRICTED-USE','BLOCKED','RETURNS']\n",
    "df = df.drop(*cols_to_drop)"
   ]
  },
  {
   "cell_type": "code",
   "execution_count": 107,
   "metadata": {},
   "outputs": [
    {
     "data": {
      "text/plain": [
       "DataFrame[sku_code: string, sc_node_code: string, batch: string, st1: string, st2: string, status_date: string, st3: double]"
      ]
     },
     "execution_count": 107,
     "metadata": {},
     "output_type": "execute_result"
    }
   ],
   "source": [
    "df"
   ]
  },
  {
   "cell_type": "code",
   "execution_count": 108,
   "metadata": {},
   "outputs": [],
   "source": [
    "df = df.withColumn(\"st1\", df[\"st1\"].cast(DoubleType()))"
   ]
  },
  {
   "cell_type": "code",
   "execution_count": 109,
   "metadata": {},
   "outputs": [],
   "source": [
    "df = df.withColumn(\"st2\", df[\"st2\"].cast(DoubleType()))"
   ]
  },
  {
   "cell_type": "code",
   "execution_count": 110,
   "metadata": {},
   "outputs": [
    {
     "data": {
      "text/plain": [
       "DataFrame[sku_code: string, sc_node_code: string, batch: string, st1: double, st2: double, status_date: string, st3: double]"
      ]
     },
     "execution_count": 110,
     "metadata": {},
     "output_type": "execute_result"
    }
   ],
   "source": [
    "df"
   ]
  },
  {
   "cell_type": "code",
   "execution_count": 111,
   "metadata": {},
   "outputs": [],
   "source": [
    "df = df.selectExpr(\"status_date\",\"sku_code\",\"sc_node_code\",\"batch\",\n",
    "              \"stack(3, 'st1', st1, 'st2', st2, 'st3' ,st3) as (stock_type, stock_qty)\")"
   ]
  },
  {
   "cell_type": "code",
   "execution_count": 112,
   "metadata": {},
   "outputs": [
    {
     "data": {
      "text/plain": [
       "DataFrame[status_date: string, sku_code: string, sc_node_code: string, batch: string, stock_type: string, stock_qty: double]"
      ]
     },
     "execution_count": 112,
     "metadata": {},
     "output_type": "execute_result"
    }
   ],
   "source": [
    "df"
   ]
  },
  {
   "cell_type": "code",
   "execution_count": 113,
   "metadata": {},
   "outputs": [
    {
     "name": "stdout",
     "output_type": "stream",
     "text": [
      "+-----------+-------------+------------+----------+----------+---------+\n",
      "|status_date|     sku_code|sc_node_code|     batch|stock_type|stock_qty|\n",
      "+-----------+-------------+------------+----------+----------+---------+\n",
      "| 2019-06-22|RL10J0AS10AH1|        1002|LIAW      |       st1|   2136.0|\n",
      "| 2019-06-22|RL10J0AS10AH1|        1002|LIAW      |       st2|      0.0|\n",
      "| 2019-06-22|RL10J0AS10AH1|        1002|LIAW      |       st3|      0.0|\n",
      "| 2019-06-22|RL10J0AS10AH1|        AP01|LIAW      |       st1|      4.0|\n",
      "| 2019-06-22|RL10J0AS10AH1|        AP01|LIAW      |       st2|      0.0|\n",
      "| 2019-06-22|RL10J0AS10AH1|        AP01|LIAW      |       st3|      0.0|\n",
      "| 2019-06-22|RL10J0AS10AH1|        AP02|LIAW      |       st1|      2.0|\n",
      "| 2019-06-22|RL10J0AS10AH1|        AP02|LIAW      |       st2|      0.0|\n",
      "| 2019-06-22|RL10J0AS10AH1|        AP02|LIAW      |       st3|      0.0|\n",
      "| 2019-06-22|RL10J0AS10AH1|        AP05|LIAW      |       st1|      2.0|\n",
      "| 2019-06-22|RL10J0AS10AH1|        AP05|LIAW      |       st2|      0.0|\n",
      "| 2019-06-22|RL10J0AS10AH1|        AP05|LIAW      |       st3|      0.0|\n",
      "| 2019-06-22|RL10J0AS10AH1|        AP06|LIAW      |       st1|      2.0|\n",
      "| 2019-06-22|RL10J0AS10AH1|        AP06|LIAW      |       st2|      0.0|\n",
      "| 2019-06-22|RL10J0AS10AH1|        AP06|LIAW      |       st3|      0.0|\n",
      "| 2019-06-22|RL10J0AS10AH1|        AP10|LIAW      |       st1|      2.0|\n",
      "| 2019-06-22|RL10J0AS10AH1|        AP10|LIAW      |       st2|      0.0|\n",
      "| 2019-06-22|RL10J0AS10AH1|        AP10|LIAW      |       st3|      0.0|\n",
      "| 2019-06-22|RL10J0AS10AH1|        AP12|LIAW      |       st1|      2.0|\n",
      "| 2019-06-22|RL10J0AS10AH1|        AP12|LIAW      |       st2|      0.0|\n",
      "+-----------+-------------+------------+----------+----------+---------+\n",
      "only showing top 20 rows\n",
      "\n"
     ]
    }
   ],
   "source": [
    "df.show()"
   ]
  },
  {
   "cell_type": "code",
   "execution_count": 114,
   "metadata": {},
   "outputs": [],
   "source": [
    "forecast_df = sqlContext.read.format(\"csv\").option(\"header\", \"true\").load(\"../Data/forecast_june.csv\")"
   ]
  },
  {
   "cell_type": "code",
   "execution_count": 115,
   "metadata": {},
   "outputs": [],
   "source": [
    "calendar_df = sqlContext.read.format(\"csv\").option(\"header\", \"true\").load(\"calendar.csv\")"
   ]
  },
  {
   "cell_type": "code",
   "execution_count": 116,
   "metadata": {},
   "outputs": [],
   "source": [
    "calendar_df = calendar_df[['for_date','for_month','for_year','days_in_month']]"
   ]
  },
  {
   "cell_type": "code",
   "execution_count": 117,
   "metadata": {},
   "outputs": [
    {
     "data": {
      "text/plain": [
       "DataFrame[for_date: string, for_month: string, for_year: string, days_in_month: string]"
      ]
     },
     "execution_count": 117,
     "metadata": {},
     "output_type": "execute_result"
    }
   ],
   "source": [
    "calendar_df"
   ]
  },
  {
   "cell_type": "code",
   "execution_count": 118,
   "metadata": {},
   "outputs": [],
   "source": [
    "products_df = forecast_df[['sku_code','sc_node_code','sales_channel_code','for_month','for_year']].drop_duplicates()"
   ]
  },
  {
   "cell_type": "code",
   "execution_count": 119,
   "metadata": {},
   "outputs": [
    {
     "data": {
      "text/plain": [
       "DataFrame[sku_code: string, sc_node_code: string, sales_channel_code: string, for_month: string, for_year: string]"
      ]
     },
     "execution_count": 119,
     "metadata": {},
     "output_type": "execute_result"
    }
   ],
   "source": [
    "products_df"
   ]
  },
  {
   "cell_type": "code",
   "execution_count": 120,
   "metadata": {},
   "outputs": [],
   "source": [
    "products_df = calendar_df.join(products_df,\n",
    "         on=['for_month', 'for_year'],how='left_outer')"
   ]
  },
  {
   "cell_type": "code",
   "execution_count": 121,
   "metadata": {},
   "outputs": [
    {
     "data": {
      "text/plain": [
       "DataFrame[for_month: string, for_year: string, for_date: string, days_in_month: string, sku_code: string, sc_node_code: string, sales_channel_code: string]"
      ]
     },
     "execution_count": 121,
     "metadata": {},
     "output_type": "execute_result"
    }
   ],
   "source": [
    "products_df"
   ]
  },
  {
   "cell_type": "code",
   "execution_count": 122,
   "metadata": {},
   "outputs": [],
   "source": [
    "products_df = products_df.join(forecast_df,\n",
    "         on=['for_month', 'for_year', 'sku_code', 'sc_node_code','sales_channel_code'],\n",
    "         how='left')"
   ]
  },
  {
   "cell_type": "code",
   "execution_count": 125,
   "metadata": {},
   "outputs": [],
   "source": [
    "products_df = products_df.withColumn('forecast_dly', products_df['forecast_qty']/products_df['days_in_month'])"
   ]
  },
  {
   "cell_type": "code",
   "execution_count": 126,
   "metadata": {},
   "outputs": [
    {
     "name": "stdout",
     "output_type": "stream",
     "text": [
      "+----------+---------+--------+--------+-------+-------------+------------+------------------+------------+--------------+\n",
      "|source_tag|for_month|for_year|in_month|in_year|     sku_code|sc_node_code|sales_channel_code|forecast_qty|forecast_value|\n",
      "+----------+---------+--------+--------+-------+-------------+------------+------------------+------------+--------------+\n",
      "|         1|        6|    2019|       6|   2019|RL10J0AS10AH1|        1002|               REP|        1946|       4378500|\n",
      "|         1|        6|    2019|       6|   2019|RL10J0AS10AH1|        AP01|               REP|         300|        675000|\n",
      "|         1|        6|    2019|       6|   2019|RL10J0AS10AH1|        AP02|               REP|          15|         33750|\n",
      "|         1|        6|    2019|       6|   2019|RL10J0AS10AH1|        AP03|               REP|          30|         67500|\n",
      "|         1|        6|    2019|       6|   2019|RL10J0AS10AH1|        AP04|               REP|         200|        450000|\n",
      "|         1|        6|    2019|       6|   2019|RL10J0AS10AH1|        AP05|               REP|          30|         67500|\n",
      "|         1|        6|    2019|       6|   2019|RL10J0AS10AH1|        AP06|               REP|          20|         45000|\n",
      "|         1|        6|    2019|       6|   2019|RL10J0AS10AH1|        AP07|               REP|          30|         67500|\n",
      "|         1|        6|    2019|       6|   2019|RL10J0AS10AH1|        AP10|               REP|          30|         67500|\n",
      "|         1|        6|    2019|       6|   2019|RL10J0AS10AH1|        AP12|               REP|          10|         22500|\n",
      "|         1|        6|    2019|       6|   2019|RL10J0AS10AH1|        BR01|               REP|          20|         45000|\n",
      "|         1|        6|    2019|       6|   2019|RL10J0AS10AH1|        BR02|               REP|          10|         22500|\n",
      "|         1|        6|    2019|       6|   2019|RL10J0AS10AH1|        BR03|               REP|           0|             0|\n",
      "|         1|        6|    2019|       6|   2019|RL10J0AS10AH1|        BR04|               REP|           4|          9000|\n",
      "|         1|        6|    2019|       6|   2019|RL10J0AS10AH1|        BR05|               REP|          20|         45000|\n",
      "|         1|        6|    2019|       6|   2019|RL10J0AS10AH1|        BRR2|               REP|          54|        121500|\n",
      "|         1|        6|    2019|       6|   2019|RL10J0AS10AH1|        CG01|               REP|         100|        225000|\n",
      "|         1|        6|    2019|       6|   2019|RL10J0AS10AH1|        CG02|               REP|           0|             0|\n",
      "|         1|        6|    2019|       6|   2019|RL10J0AS10AH1|        CG03|               REP|          10|         22500|\n",
      "|         1|        6|    2019|       6|   2019|RL10J0AS10AH1|        CG05|               REP|           2|          4500|\n",
      "+----------+---------+--------+--------+-------+-------------+------------+------------------+------------+--------------+\n",
      "only showing top 20 rows\n",
      "\n"
     ]
    }
   ],
   "source": [
    "forecast_df.show()"
   ]
  },
  {
   "cell_type": "code",
   "execution_count": 12,
   "metadata": {},
   "outputs": [],
   "source": [
    "dbDetails = {\n",
    "    \"driver\": \"postgresql\",\n",
    "    \"username\": \"postgres\",\n",
    "    \"password\": \"password\",\n",
    "    \"host\": \"localhost\",\n",
    "    \"port\": \"5432\",\n",
    "    \"database\": \"alpha_haldiram\"\n",
    "}"
   ]
  },
  {
   "cell_type": "code",
   "execution_count": 18,
   "metadata": {},
   "outputs": [
    {
     "data": {
      "text/plain": [
       "'\\ncalendar_df = sqlContext.read     .format(\"jdbc\")     .option(\"url\",\\'jdbc:postgresql://localhost:5432/alpha_emami\\')     .option(\"dbtable\", \"bi.calendar_master\")     .load()\\n'"
      ]
     },
     "execution_count": 18,
     "metadata": {},
     "output_type": "execute_result"
    }
   ],
   "source": [
    "\n",
    "\"\"\"\n",
    "calendar_df = sqlContext.read \\\n",
    "    .format(\"jdbc\") \\\n",
    "    .option(\"url\",'jdbc:postgresql://localhost:5432/alpha_emami') \\\n",
    "    .option(\"dbtable\", \"bi.calendar_master\") \\\n",
    "    .load()\n",
    "\"\"\"\n"
   ]
  },
  {
   "cell_type": "code",
   "execution_count": 127,
   "metadata": {},
   "outputs": [
    {
     "name": "stdout",
     "output_type": "stream",
     "text": [
      "+---------+--------+-------------+------------+------------------+----------+-------------+----------+--------+-------+------------+--------------+------------+\n",
      "|for_month|for_year|     sku_code|sc_node_code|sales_channel_code|  for_date|days_in_month|source_tag|in_month|in_year|forecast_qty|forecast_value|forecast_dly|\n",
      "+---------+--------+-------------+------------+------------------+----------+-------------+----------+--------+-------+------------+--------------+------------+\n",
      "|        6|    2019|RYQHJ0TUB0AE1|        DL04|               REP|01-06-2019|           30|         1|       6|   2019|           0|             0|         0.0|\n",
      "|        6|    2019|RYN5D0TUB0AE1|        DL01|               REP|01-06-2019|           30|         1|       6|   2019|           0|             0|         0.0|\n",
      "|        6|    2019|RYN4Q0TUB0AP1|        PY01|               REP|01-06-2019|           30|         1|       6|   2019|           0|             0|         0.0|\n",
      "|        6|    2019|RYN4Q0TUB0AP1|        HRR2|               REP|01-06-2019|           30|         1|       6|   2019|           0|             0|         0.0|\n",
      "|        6|    2019|RYN4K0TUB0AP1|        PB01|               REP|01-06-2019|           30|         1|       6|   2019|           0|             0|         0.0|\n",
      "|        6|    2019|RYN4G0TFT0AE1|        PB03|               REP|01-06-2019|           30|         1|       6|   2019|           0|             0|         0.0|\n",
      "|        6|    2019|RYN0P0TUB0AD1|        MH07|               REP|01-06-2019|           30|         1|       6|   2019|           0|             0|         0.0|\n",
      "|        6|    2019|RYN0P0TUB0AD1|        HRR2|               REP|01-06-2019|           30|         1|       6|   2019|           0|             0|         0.0|\n",
      "|        6|    2019|RYM7H0MNG0AU1|        WBR2|               REP|01-06-2019|           30|         1|       6|   2019|           0|             0|         0.0|\n",
      "|        6|    2019|RYL4F0TUB0AN1|        OR02|               REP|01-06-2019|           30|         1|       6|   2019|           0|             0|         0.0|\n",
      "|        6|    2019|RYL4E0TUB0AN1|        HP02|               REP|01-06-2019|           30|         1|       6|   2019|           0|             0|         0.0|\n",
      "|        6|    2019|RYJHM0TUB0AD1|        RJ02|               REP|01-06-2019|           30|         1|       6|   2019|           0|             0|         0.0|\n",
      "|        6|    2019|RYJDN0TUB0AD1|        RJR4|               REP|01-06-2019|           30|         1|       6|   2019|           0|             0|         0.0|\n",
      "|        6|    2019|RYJDN0TUB0AD1|        KA03|               REP|01-06-2019|           30|         1|       6|   2019|           0|             0|         0.0|\n",
      "|        6|    2019|RYH6J0TUB0AD1|        KA04|               REP|01-06-2019|           30|         1|       6|   2019|           0|             0|         0.0|\n",
      "|        6|    2019|RYH6J0TUB0AD1|        BR03|               REP|01-06-2019|           30|         1|       6|   2019|           0|             0|         0.0|\n",
      "|        6|    2019|RYH2D0TUB0AD1|        MH01|               REP|01-06-2019|           30|         1|       6|   2019|           0|             0|         0.0|\n",
      "|        6|    2019|RYH2D0TUB0AD1|        CG07|               REP|01-06-2019|           30|         1|       6|   2019|           0|             0|         0.0|\n",
      "|        6|    2019|RYH1X0TUB0AD1|        MP02|               REP|01-06-2019|           30|         1|       6|   2019|           0|             0|         0.0|\n",
      "|        6|    2019|RYH1Q0TUB0AD1|        MP06|               REP|01-06-2019|           30|         1|       6|   2019|           0|             0|         0.0|\n",
      "+---------+--------+-------------+------------+------------------+----------+-------------+----------+--------+-------+------------+--------------+------------+\n",
      "only showing top 20 rows\n",
      "\n"
     ]
    }
   ],
   "source": [
    "products_df.show()"
   ]
  },
  {
   "cell_type": "code",
   "execution_count": 128,
   "metadata": {},
   "outputs": [],
   "source": [
    "df = df.withColumnRenamed('status_date',\"for_date\")"
   ]
  },
  {
   "cell_type": "code",
   "execution_count": 129,
   "metadata": {},
   "outputs": [],
   "source": [
    "final_df = products_df.join(df,\n",
    "                 on=['sku_code', 'sc_node_code','for_date'],\n",
    "                 how='left')"
   ]
  },
  {
   "cell_type": "code",
   "execution_count": 130,
   "metadata": {},
   "outputs": [],
   "source": [
    "final_df = final_df.fillna(0)"
   ]
  },
  {
   "cell_type": "code",
   "execution_count": 88,
   "metadata": {},
   "outputs": [
    {
     "name": "stdout",
     "output_type": "stream",
     "text": [
      "Wall time: 45.7 s\n"
     ]
    }
   ],
   "source": [
    "%%time\n",
    "final_df.write.format('csv').save('final_stock_secondary.csv')"
   ]
  },
  {
   "cell_type": "code",
   "execution_count": 131,
   "metadata": {},
   "outputs": [
    {
     "name": "stdout",
     "output_type": "stream",
     "text": [
      "+-------------+------------+----------+---------+--------+------------------+-------------+----------+--------+-------+------------+--------------+-------------------+-----+----------+---------+\n",
      "|     sku_code|sc_node_code|  for_date|for_month|for_year|sales_channel_code|days_in_month|source_tag|in_month|in_year|forecast_qty|forecast_value|       forecast_dly|batch|stock_type|stock_qty|\n",
      "+-------------+------------+----------+---------+--------+------------------+-------------+----------+--------+-------+------------+--------------+-------------------+-----+----------+---------+\n",
      "|RL10J0AS10AH1|        AP07|28-06-2019|        6|    2019|               REP|           30|         1|       6|   2019|          30|         67500|                1.0| null|      null|      0.0|\n",
      "|RL10J0AS10AH1|        BR03|05-06-2019|        6|    2019|               REP|           30|         1|       6|   2019|           0|             0|                0.0| null|      null|      0.0|\n",
      "|RL10J0AS10AH1|        DL02|09-06-2019|        6|    2019|               REP|           30|         1|       6|   2019|           5|         11250|0.16666666666666666| null|      null|      0.0|\n",
      "|RL10J0AS10AH1|        DL02|21-06-2019|        6|    2019|               REP|           30|         1|       6|   2019|           5|         11250|0.16666666666666666| null|      null|      0.0|\n",
      "|RL10J0AS10AH1|        GJ03|15-06-2019|        6|    2019|               REP|           30|         1|       6|   2019|           8|         18000|0.26666666666666666| null|      null|      0.0|\n",
      "|RL10J0AS10AH1|        GJ07|11-06-2019|        6|    2019|               REP|           30|         1|       6|   2019|           4|          9000|0.13333333333333333| null|      null|      0.0|\n",
      "|RL10J0AS10AH1|        GJR1|28-06-2019|        6|    2019|               REP|           30|         1|       6|   2019|          62|        139500|  2.066666666666667| null|      null|      0.0|\n",
      "|RL10J0AS10AH1|        HR05|17-06-2019|        6|    2019|               REP|           30|         1|       6|   2019|          10|         22500| 0.3333333333333333| null|      null|      0.0|\n",
      "|RL10J0AS10AH1|        HR09|03-06-2019|        6|    2019|               REP|           30|         1|       6|   2019|           5|         11250|0.16666666666666666| null|      null|      0.0|\n",
      "|RL10J0AS10AH1|        HRR3|08-06-2019|        6|    2019|               REP|           30|         1|       6|   2019|          70|        157500| 2.3333333333333335| null|      null|      0.0|\n",
      "|RL10J0AS10AH1|        JRR1|15-06-2019|        6|    2019|               REP|           30|         1|       6|   2019|          75|        168750|                2.5| null|      null|      0.0|\n",
      "|RL10J0AS10AH1|        KA08|10-06-2019|        6|    2019|               REP|           30|         1|       6|   2019|          20|         45000| 0.6666666666666666| null|      null|      0.0|\n",
      "|RL10J0AS10AH1|        KA10|10-06-2019|        6|    2019|               REP|           30|         1|       6|   2019|          20|         45000| 0.6666666666666666| null|      null|      0.0|\n",
      "|RL10J0AS10AH1|        MA05|16-06-2019|        6|    2019|               REP|           30|         1|       6|   2019|          10|         22500| 0.3333333333333333| null|      null|      0.0|\n",
      "|RL10J0AS10AH1|        MA06|18-06-2019|        6|    2019|               REP|           30|         1|       6|   2019|          50|        112500| 1.6666666666666667| null|      null|      0.0|\n",
      "|RL10J0AS10AH1|        MH03|03-06-2019|        6|    2019|               REP|           30|         1|       6|   2019|           8|         18000|0.26666666666666666| null|      null|      0.0|\n",
      "|RL10J0AS10AH1|        MH04|20-06-2019|        6|    2019|               REP|           30|         1|       6|   2019|          40|         90000| 1.3333333333333333| null|      null|      0.0|\n",
      "|RL10J0AS10AH1|        MPR2|01-06-2019|        6|    2019|               REP|           30|         1|       6|   2019|          72|        162000|                2.4| null|      null|      0.0|\n",
      "|RL10J0AS10AH1|        OR04|06-06-2019|        6|    2019|               REP|           30|         1|       6|   2019|          10|         22500| 0.3333333333333333| null|      null|      0.0|\n",
      "|RL10J0AS10AH1|        ORR1|25-06-2019|        6|    2019|               REP|           30|         1|       6|   2019|          72|        162000|                2.4| null|      null|      0.0|\n",
      "+-------------+------------+----------+---------+--------+------------------+-------------+----------+--------+-------+------------+--------------+-------------------+-----+----------+---------+\n",
      "only showing top 20 rows\n",
      "\n"
     ]
    }
   ],
   "source": [
    "final_df.show()"
   ]
  },
  {
   "cell_type": "code",
   "execution_count": 132,
   "metadata": {},
   "outputs": [
    {
     "name": "stdout",
     "output_type": "stream",
     "text": [
      "Wall time: 1min 7s\n"
     ]
    }
   ],
   "source": [
    "%%time\n",
    "final_df.write.format('com.databricks.spark.csv').save('final_stock_secondary_f.csv')"
   ]
  },
  {
   "cell_type": "code",
   "execution_count": 133,
   "metadata": {},
   "outputs": [],
   "source": [
    "sc.stop()"
   ]
  }
 ],
 "metadata": {
  "kernelspec": {
   "display_name": "Python 3",
   "language": "python",
   "name": "python3"
  },
  "language_info": {
   "codemirror_mode": {
    "name": "ipython",
    "version": 3
   },
   "file_extension": ".py",
   "mimetype": "text/x-python",
   "name": "python",
   "nbconvert_exporter": "python",
   "pygments_lexer": "ipython3",
   "version": "3.7.3"
  }
 },
 "nbformat": 4,
 "nbformat_minor": 2
}
