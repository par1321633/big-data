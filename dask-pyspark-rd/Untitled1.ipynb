{
 "cells": [
  {
   "cell_type": "code",
   "execution_count": 1,
   "metadata": {},
   "outputs": [],
   "source": [
    "import pandas as pd"
   ]
  },
  {
   "cell_type": "code",
   "execution_count": 15,
   "metadata": {},
   "outputs": [],
   "source": [
    "df = pd.read_csv('date.csv')"
   ]
  },
  {
   "cell_type": "code",
   "execution_count": 16,
   "metadata": {},
   "outputs": [
    {
     "data": {
      "text/html": [
       "<div>\n",
       "<style scoped>\n",
       "    .dataframe tbody tr th:only-of-type {\n",
       "        vertical-align: middle;\n",
       "    }\n",
       "\n",
       "    .dataframe tbody tr th {\n",
       "        vertical-align: top;\n",
       "    }\n",
       "\n",
       "    .dataframe thead th {\n",
       "        text-align: right;\n",
       "    }\n",
       "</style>\n",
       "<table border=\"1\" class=\"dataframe\">\n",
       "  <thead>\n",
       "    <tr style=\"text-align: right;\">\n",
       "      <th></th>\n",
       "      <th>sku_code</th>\n",
       "      <th>sc_node_code</th>\n",
       "      <th>sale_date</th>\n",
       "      <th>sale_qty</th>\n",
       "      <th>VARIANT</th>\n",
       "      <th>PRODUCT</th>\n",
       "      <th>BRAND</th>\n",
       "      <th>CATEGORY</th>\n",
       "      <th>DIVISION</th>\n",
       "      <th>CITY</th>\n",
       "      <th>STATE</th>\n",
       "      <th>REGION</th>\n",
       "      <th>COUNTRY</th>\n",
       "      <th>sku_description</th>\n",
       "      <th>node_description</th>\n",
       "    </tr>\n",
       "  </thead>\n",
       "  <tbody>\n",
       "    <tr>\n",
       "      <th>0</th>\n",
       "      <td>H004169</td>\n",
       "      <td>C000187</td>\n",
       "      <td>2017-06-01</td>\n",
       "      <td>550.00</td>\n",
       "      <td>DIET CHIWDA</td>\n",
       "      <td>DIET CHIWDA</td>\n",
       "      <td>DIET NAMKEEN</td>\n",
       "      <td>NAMKEEN</td>\n",
       "      <td>SMALL DIVISION</td>\n",
       "      <td>RISHIKESH</td>\n",
       "      <td>UTTARAKHAND</td>\n",
       "      <td>NaN</td>\n",
       "      <td>NaN</td>\n",
       "      <td>DIET CHIDWA 50 GMS* 10.00</td>\n",
       "      <td>JAI DURGA TRADERS (RISHIKESH)</td>\n",
       "    </tr>\n",
       "    <tr>\n",
       "      <th>1</th>\n",
       "      <td>H044357</td>\n",
       "      <td>C000167</td>\n",
       "      <td>2017-06-01</td>\n",
       "      <td>56814.86</td>\n",
       "      <td>BHUJIA-MASALA</td>\n",
       "      <td>BHUJIA</td>\n",
       "      <td>SEV BHUJIA</td>\n",
       "      <td>NAMKEEN</td>\n",
       "      <td>SMALL DIVISION</td>\n",
       "      <td>VARANASI</td>\n",
       "      <td>UTTAR PRADESH</td>\n",
       "      <td>NaN</td>\n",
       "      <td>NaN</td>\n",
       "      <td>BHUJIA 18GM*9.072</td>\n",
       "      <td>AGARWAL MILLS - VARANASI</td>\n",
       "    </tr>\n",
       "    <tr>\n",
       "      <th>2</th>\n",
       "      <td>H004176</td>\n",
       "      <td>C000768</td>\n",
       "      <td>2017-06-01</td>\n",
       "      <td>70.00</td>\n",
       "      <td>DIET MURMURA</td>\n",
       "      <td>DIET MURMURA</td>\n",
       "      <td>DIET NAMKEEN</td>\n",
       "      <td>NAMKEEN</td>\n",
       "      <td>SMALL DIVISION</td>\n",
       "      <td>MURADABAD</td>\n",
       "      <td>UTTAR PRADESH</td>\n",
       "      <td>NaN</td>\n",
       "      <td>NaN</td>\n",
       "      <td>DIET MURMURA 50 GMS*10.00</td>\n",
       "      <td>ADITIYA VEER TRADING CO.</td>\n",
       "    </tr>\n",
       "    <tr>\n",
       "      <th>3</th>\n",
       "      <td>H007652</td>\n",
       "      <td>C000231</td>\n",
       "      <td>2017-06-01</td>\n",
       "      <td>12.00</td>\n",
       "      <td>SYRUP ROSE</td>\n",
       "      <td>SYRUP</td>\n",
       "      <td>SYRUP</td>\n",
       "      <td>NON-SALTY</td>\n",
       "      <td>BIG DIVISION</td>\n",
       "      <td>PATNA</td>\n",
       "      <td>BIHAR</td>\n",
       "      <td>NaN</td>\n",
       "      <td>NaN</td>\n",
       "      <td>ROSE SYRUP 1*12</td>\n",
       "      <td>SWASTIK SALES CORP. - PATNA</td>\n",
       "    </tr>\n",
       "    <tr>\n",
       "      <th>4</th>\n",
       "      <td>H007652</td>\n",
       "      <td>C000232</td>\n",
       "      <td>2017-06-01</td>\n",
       "      <td>984.00</td>\n",
       "      <td>SYRUP ROSE</td>\n",
       "      <td>SYRUP</td>\n",
       "      <td>SYRUP</td>\n",
       "      <td>NON-SALTY</td>\n",
       "      <td>BIG DIVISION</td>\n",
       "      <td>GHAZIABAD</td>\n",
       "      <td>UTTAR PRADESH</td>\n",
       "      <td>NaN</td>\n",
       "      <td>NaN</td>\n",
       "      <td>ROSE SYRUP 1*12</td>\n",
       "      <td>T K AGENCIES (GHAZIABAD)</td>\n",
       "    </tr>\n",
       "  </tbody>\n",
       "</table>\n",
       "</div>"
      ],
      "text/plain": [
       "  sku_code sc_node_code   sale_date  sale_qty        VARIANT       PRODUCT  \\\n",
       "0  H004169      C000187  2017-06-01    550.00    DIET CHIWDA   DIET CHIWDA   \n",
       "1  H044357      C000167  2017-06-01  56814.86  BHUJIA-MASALA        BHUJIA   \n",
       "2  H004176      C000768  2017-06-01     70.00   DIET MURMURA  DIET MURMURA   \n",
       "3  H007652      C000231  2017-06-01     12.00     SYRUP ROSE         SYRUP   \n",
       "4  H007652      C000232  2017-06-01    984.00     SYRUP ROSE         SYRUP   \n",
       "\n",
       "          BRAND   CATEGORY        DIVISION       CITY          STATE  REGION  \\\n",
       "0  DIET NAMKEEN    NAMKEEN  SMALL DIVISION  RISHIKESH    UTTARAKHAND     NaN   \n",
       "1    SEV BHUJIA    NAMKEEN  SMALL DIVISION   VARANASI  UTTAR PRADESH     NaN   \n",
       "2  DIET NAMKEEN    NAMKEEN  SMALL DIVISION  MURADABAD  UTTAR PRADESH     NaN   \n",
       "3         SYRUP  NON-SALTY    BIG DIVISION      PATNA          BIHAR     NaN   \n",
       "4         SYRUP  NON-SALTY    BIG DIVISION  GHAZIABAD  UTTAR PRADESH     NaN   \n",
       "\n",
       "   COUNTRY            sku_description               node_description  \n",
       "0      NaN  DIET CHIDWA 50 GMS* 10.00  JAI DURGA TRADERS (RISHIKESH)  \n",
       "1      NaN          BHUJIA 18GM*9.072       AGARWAL MILLS - VARANASI  \n",
       "2      NaN  DIET MURMURA 50 GMS*10.00       ADITIYA VEER TRADING CO.  \n",
       "3      NaN            ROSE SYRUP 1*12    SWASTIK SALES CORP. - PATNA  \n",
       "4      NaN            ROSE SYRUP 1*12       T K AGENCIES (GHAZIABAD)  "
      ]
     },
     "execution_count": 16,
     "metadata": {},
     "output_type": "execute_result"
    }
   ],
   "source": [
    "df.head()"
   ]
  },
  {
   "cell_type": "code",
   "execution_count": 21,
   "metadata": {},
   "outputs": [
    {
     "data": {
      "text/plain": [
       "array(['2022-06-01T00:00:00.000000000', '2022-07-01T00:00:00.000000000',\n",
       "       '2022-08-01T00:00:00.000000000', '2022-09-01T00:00:00.000000000',\n",
       "       '2022-10-01T00:00:00.000000000', '2022-11-01T00:00:00.000000000',\n",
       "       '2022-12-01T00:00:00.000000000', '2018-01-01T00:00:00.000000000',\n",
       "       '2018-02-01T00:00:00.000000000', '2018-03-01T00:00:00.000000000',\n",
       "       '2018-04-01T00:00:00.000000000', '2018-05-01T00:00:00.000000000',\n",
       "       '2018-06-01T00:00:00.000000000', '2018-07-01T00:00:00.000000000',\n",
       "       '2018-08-01T00:00:00.000000000', '2018-09-01T00:00:00.000000000',\n",
       "       '2018-10-01T00:00:00.000000000', '2018-11-01T00:00:00.000000000',\n",
       "       '2018-12-01T00:00:00.000000000', '2019-01-01T00:00:00.000000000',\n",
       "       '2019-02-01T00:00:00.000000000', '2019-03-01T00:00:00.000000000',\n",
       "       '2019-04-01T00:00:00.000000000', '2019-05-01T00:00:00.000000000'],\n",
       "      dtype='datetime64[ns]')"
      ]
     },
     "execution_count": 21,
     "metadata": {},
     "output_type": "execute_result"
    }
   ],
   "source": [
    "df['sale_date'].unique()"
   ]
  },
  {
   "cell_type": "code",
   "execution_count": 18,
   "metadata": {},
   "outputs": [],
   "source": [
    "df['sale_date'] = pd.to_datetime(df['sale_date'])\n"
   ]
  },
  {
   "cell_type": "code",
   "execution_count": 20,
   "metadata": {},
   "outputs": [
    {
     "name": "stderr",
     "output_type": "stream",
     "text": [
      "C:\\Users\\Parkash.Sharma\\AppData\\Local\\Continuum\\anaconda3\\lib\\site-packages\\pandas\\core\\arrays\\datetimes.py:743: PerformanceWarning: Non-vectorized DateOffset being applied to Series or DatetimeIndex\n",
      "  \"or DatetimeIndex\", PerformanceWarning)\n"
     ]
    }
   ],
   "source": [
    "df['sale_date'] = df['sale_date'].mask(df['sale_date'].dt.year == 2017, \n",
    "                             df['sale_date'] + pd.offsets.DateOffset(year=2022))"
   ]
  },
  {
   "cell_type": "code",
   "execution_count": 10,
   "metadata": {},
   "outputs": [
    {
     "data": {
      "text/plain": [
       "0         2017\n",
       "1         2017\n",
       "2         2017\n",
       "3         2017\n",
       "4         2017\n",
       "5         2017\n",
       "6         2017\n",
       "7         2017\n",
       "8         2017\n",
       "9         2017\n",
       "10        2017\n",
       "11        2017\n",
       "12        2017\n",
       "13        2017\n",
       "14        2017\n",
       "15        2017\n",
       "16        2017\n",
       "17        2017\n",
       "18        2017\n",
       "19        2017\n",
       "20        2017\n",
       "21        2017\n",
       "22        2017\n",
       "23        2017\n",
       "24        2017\n",
       "25        2017\n",
       "26        2017\n",
       "27        2017\n",
       "28        2017\n",
       "29        2017\n",
       "          ... \n",
       "206841    2019\n",
       "206842    2019\n",
       "206843    2019\n",
       "206844    2019\n",
       "206845    2019\n",
       "206846    2019\n",
       "206847    2019\n",
       "206848    2019\n",
       "206849    2019\n",
       "206850    2019\n",
       "206851    2019\n",
       "206852    2019\n",
       "206853    2019\n",
       "206854    2019\n",
       "206855    2019\n",
       "206856    2019\n",
       "206857    2019\n",
       "206858    2019\n",
       "206859    2019\n",
       "206860    2019\n",
       "206861    2019\n",
       "206862    2019\n",
       "206863    2019\n",
       "206864    2019\n",
       "206865    2019\n",
       "206866    2019\n",
       "206867    2019\n",
       "206868    2019\n",
       "206869    2019\n",
       "206870    2019\n",
       "Name: sale_date, Length: 206871, dtype: int64"
      ]
     },
     "execution_count": 10,
     "metadata": {},
     "output_type": "execute_result"
    }
   ],
   "source": [
    "pd.to_datetime(df['sale_date']).dt.year"
   ]
  },
  {
   "cell_type": "code",
   "execution_count": null,
   "metadata": {},
   "outputs": [],
   "source": []
  }
 ],
 "metadata": {
  "kernelspec": {
   "display_name": "Python 3",
   "language": "python",
   "name": "python3"
  },
  "language_info": {
   "codemirror_mode": {
    "name": "ipython",
    "version": 3
   },
   "file_extension": ".py",
   "mimetype": "text/x-python",
   "name": "python",
   "nbconvert_exporter": "python",
   "pygments_lexer": "ipython3",
   "version": "3.7.3"
  }
 },
 "nbformat": 4,
 "nbformat_minor": 2
}
